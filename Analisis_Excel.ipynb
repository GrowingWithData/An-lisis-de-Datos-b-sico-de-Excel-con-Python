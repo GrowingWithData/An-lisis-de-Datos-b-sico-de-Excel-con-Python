{
 "cells": [
  {
   "cell_type": "markdown",
   "metadata": {},
   "source": [
    "\n",
    "# Autor: GrowingWithData\n",
    "# Fecha: 11-21-2024\n",
    "# Descripción: Este script demuestra cómo analizar datos de Excel utilizando Python.\n",
    "#              Incluye pasos para cargar datos, limpiarlos y guardar resultados.\n"
   ]
  },
  {
   "cell_type": "code",
   "execution_count": null,
   "metadata": {},
   "outputs": [],
   "source": [
    "# Importar las bibliotecas necesarias\n",
    "import pandas as pd\n",
    "# Opcional: Importar openpyxl para operaciones avanzadas con Excel\n",
    "from openpyxl import load_workbook\n",
    "\n"
   ]
  },
  {
   "cell_type": "code",
   "execution_count": null,
   "metadata": {},
   "outputs": [],
   "source": [
    "\n",
    "# Cargar el archivo principal de Excel. Reemplace 'datos_ejemplo.xlsx' con tu archivo y por otro lado reemplaza 'sheet_name' con el nombre de la hoja que requieres\n",
    "datos_principales = pd.read_excel(\"datos_ejemplo.xlsx\", sheet_name=\"Datos Completos\")"
   ]
  },
  {
   "cell_type": "code",
   "execution_count": null,
   "metadata": {},
   "outputs": [],
   "source": [
    "datos_principales"
   ]
  },
  {
   "cell_type": "code",
   "execution_count": null,
   "metadata": {},
   "outputs": [],
   "source": [
    "#Cargar el archivo principal de Excel. Reemplace 'datos_ejemplo.xlsx' con tu archivo y por otro lado reemplaza 'sheet_name' con el nombre de la hoja que requieres\n",
    "data_productos = pd.read_excel(\"datos_ejemplo.xlsx\", sheet_name=\"productos\")"
   ]
  },
  {
   "cell_type": "code",
   "execution_count": null,
   "metadata": {},
   "outputs": [],
   "source": [
    "data_productos"
   ]
  },
  {
   "cell_type": "code",
   "execution_count": null,
   "metadata": {},
   "outputs": [],
   "source": [
    "productos_a_buscar = data_productos['SKU '].tolist()"
   ]
  },
  {
   "cell_type": "code",
   "execution_count": null,
   "metadata": {},
   "outputs": [],
   "source": [
    "informacion_por_producto = {}"
   ]
  },
  {
   "cell_type": "code",
   "execution_count": null,
   "metadata": {},
   "outputs": [],
   "source": [
    "for producto in productos_a_buscar:\n",
    "    info_producto = datos_principales[datos_principales['SKU'] == producto][['Purchase Order Number', 'Purchase Order Status', 'SKU', 'Address' ]]\n",
    "    informacion_por_producto[producto] = info_producto.values.tolist()"
   ]
  },
  {
   "cell_type": "code",
   "execution_count": null,
   "metadata": {},
   "outputs": [],
   "source": [
    "for producto, info in informacion_por_producto.items():\n",
    "    print(f\"Producto: {producto}, Información: {info}\")"
   ]
  },
  {
   "cell_type": "code",
   "execution_count": null,
   "metadata": {},
   "outputs": [],
   "source": [
    "# Convertir el diccionario a un DataFrame\n",
    "df_informacion = pd.DataFrame([(producto, info) for producto, info in informacion_por_producto.items()], columns=['Producto', 'Informacion'])\n",
    "\n",
    "# Mostrar el DataFrame resultante\n",
    "print(df_informacion)"
   ]
  },
  {
   "cell_type": "code",
   "execution_count": null,
   "metadata": {},
   "outputs": [],
   "source": [
    "ruta_salida = 'Ruta donde quieras guardar el archivo'\n",
    "df_informacion.to_excel(ruta_salida, index=False)"
   ]
  }
 ],
 "metadata": {
  "kernelspec": {
   "display_name": "Python 3",
   "language": "python",
   "name": "python3"
  },
  "language_info": {
   "codemirror_mode": {
    "name": "ipython",
    "version": 3
   },
   "file_extension": ".py",
   "mimetype": "text/x-python",
   "name": "python",
   "nbconvert_exporter": "python",
   "pygments_lexer": "ipython3",
   "version": "3.9.13"
  }
 },
 "nbformat": 4,
 "nbformat_minor": 2
}
